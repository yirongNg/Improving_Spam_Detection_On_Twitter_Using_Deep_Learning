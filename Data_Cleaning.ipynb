{
 "cells": [
  {
   "cell_type": "code",
   "execution_count": 1,
   "metadata": {},
   "outputs": [
    {
     "name": "stderr",
     "output_type": "stream",
     "text": [
      "Using TensorFlow backend.\n"
     ]
    }
   ],
   "source": [
    "import pickle\n",
    "import nltk\n",
    "import string\n",
    "import numpy as np\n",
    "import pandas as pd\n",
    "import regex as re\n",
    "import tensorflow as tf\n",
    "from nltk.corpus import stopwords, words\n",
    "from nltk.tokenize import word_tokenize,wordpunct_tokenize\n",
    "from nltk.stem.wordnet import WordNetLemmatizer\n",
    "from nltk.stem import PorterStemmer\n",
    "from keras.models import load_model\n",
    "from keras.preprocessing.sequence import pad_sequences\n",
    "import time\n",
    "\n",
    "pd.set_option('display.max_colwidth', 140)"
   ]
  },
  {
   "cell_type": "code",
   "execution_count": 2,
   "metadata": {},
   "outputs": [],
   "source": [
    "words = words.words()\n",
    "newWords = ['url','retweet','usermention','hashtag']\n",
    "words.extend(newWords)\n",
    "words = set(words)\n",
    "stop_words = set(stopwords.words(\"english\"))\n",
    "wn = WordNetLemmatizer()"
   ]
  },
  {
   "cell_type": "code",
   "execution_count": 22,
   "metadata": {},
   "outputs": [
    {
     "name": "stdout",
     "output_type": "stream",
     "text": [
      "url : carri\n",
      "retweet : carri\n",
      "usermention : carri\n",
      "Time Taken:  0.0009989738464355469\n"
     ]
    }
   ],
   "source": [
    "ps =PorterStemmer()\n",
    "start1 = time.time()\n",
    "a = ps.stem(\"carries\")\n",
    "b = ps.stem(\"carried\")\n",
    "c = ps.stem(\"carrying\")\n",
    "end1 = time.time()\n",
    "print(\"url :\", a) \n",
    "print(\"retweet :\", b) \n",
    "print(\"usermention :\", c)\n",
    "print(\"Time Taken: \", end1-start1)"
   ]
  },
  {
   "cell_type": "code",
   "execution_count": 24,
   "metadata": {},
   "outputs": [
    {
     "name": "stdout",
     "output_type": "stream",
     "text": [
      "url : carry\n",
      "retweet : carried\n",
      "usermention : carrying\n",
      "Time Taken:  0.0\n"
     ]
    }
   ],
   "source": [
    "start2 = time.time()\n",
    "d = wn.lemmatize(\"carries\")\n",
    "e = wn.lemmatize(\"carried\")\n",
    "f = wn.lemmatize(\"carrying\")\n",
    "end2 = time.time()\n",
    "print(\"url :\", d) \n",
    "print(\"retweet :\", e) \n",
    "print(\"usermention :\", f) \n",
    "print(\"Time Taken: \", end2-start2)"
   ]
  },
  {
   "cell_type": "code",
   "execution_count": 3,
   "metadata": {},
   "outputs": [
    {
     "data": {
      "text/plain": [
       "True"
      ]
     },
     "execution_count": 3,
     "metadata": {},
     "output_type": "execute_result"
    }
   ],
   "source": [
    "\"hashtag\" in words"
   ]
  },
  {
   "cell_type": "code",
   "execution_count": 4,
   "metadata": {},
   "outputs": [
    {
     "name": "stdout",
     "output_type": "stream",
     "text": [
      "url : url\n",
      "retweet : retweet\n",
      "usermention : usermention\n",
      "hashtag : hashtag\n"
     ]
    }
   ],
   "source": [
    "print(\"url :\", wn.lemmatize(\"url\", pos='v')) \n",
    "print(\"retweet :\", wn.lemmatize(\"retweet\", pos='v')) \n",
    "print(\"usermention :\", wn.lemmatize(\"usermention\", pos='v')) \n",
    "print(\"hashtag :\", wn.lemmatize(\"hashtag\", pos='v')) "
   ]
  },
  {
   "cell_type": "code",
   "execution_count": 5,
   "metadata": {},
   "outputs": [],
   "source": [
    "f1 = open(\"dataset/legitimate_users_tweets.txt\", errors = 'ignore')\n",
    "input_file1 = f1.read()"
   ]
  },
  {
   "cell_type": "code",
   "execution_count": 6,
   "metadata": {},
   "outputs": [],
   "source": [
    "f2 = open(\"dataset/content_polluters_tweets.txt\", errors = 'ignore')\n",
    "input_file2 = f2.read()"
   ]
  },
  {
   "cell_type": "code",
   "execution_count": 7,
   "metadata": {},
   "outputs": [],
   "source": [
    "def text_to_df(file):\n",
    "    parsedData = file.replace('\\t', '\\n').split('\\n')\n",
    "    textList = parsedData[2::4]\n",
    "    df = pd.DataFrame({'Text': textList})\n",
    "    return df"
   ]
  },
  {
   "cell_type": "code",
   "execution_count": 8,
   "metadata": {},
   "outputs": [
    {
     "data": {
      "text/html": [
       "<div>\n",
       "<style scoped>\n",
       "    .dataframe tbody tr th:only-of-type {\n",
       "        vertical-align: middle;\n",
       "    }\n",
       "\n",
       "    .dataframe tbody tr th {\n",
       "        vertical-align: top;\n",
       "    }\n",
       "\n",
       "    .dataframe thead th {\n",
       "        text-align: right;\n",
       "    }\n",
       "</style>\n",
       "<table border=\"1\" class=\"dataframe\">\n",
       "  <thead>\n",
       "    <tr style=\"text-align: right;\">\n",
       "      <th></th>\n",
       "      <th>Text</th>\n",
       "    </tr>\n",
       "  </thead>\n",
       "  <tbody>\n",
       "    <tr>\n",
       "      <th>0</th>\n",
       "      <td>â€¦ at house party in Daybreak. Not as weird as I'd feared. ;)</td>\n",
       "    </tr>\n",
       "    <tr>\n",
       "      <th>1</th>\n",
       "      <td>Taxiing  â€” at SLC Salt Lake City International http://gowal.la/s/b7V</td>\n",
       "    </tr>\n",
       "    <tr>\n",
       "      <th>2</th>\n",
       "      <td>Almost home! â€” at PDX Portland International  http://gowal.la/s/66X</td>\n",
       "    </tr>\n",
       "    <tr>\n",
       "      <th>3</th>\n",
       "      <td>Lunch!  â€” at Ten01 http://gowal.la/s/Awa</td>\n",
       "    </tr>\n",
       "    <tr>\n",
       "      <th>4</th>\n",
       "      <td>Mm â€¦ books â€” at @Powells http://gowal.la/s/6fe</td>\n",
       "    </tr>\n",
       "  </tbody>\n",
       "</table>\n",
       "</div>"
      ],
      "text/plain": [
       "                                                                     Text\n",
       "0          â€¦ at house party in Daybreak. Not as weird as I'd feared. ;)\n",
       "1  Taxiing  â€” at SLC Salt Lake City International http://gowal.la/s/b7V\n",
       "2   Almost home! â€” at PDX Portland International  http://gowal.la/s/66X\n",
       "3                              Lunch!  â€” at Ten01 http://gowal.la/s/Awa\n",
       "4                      Mm â€¦ books â€” at @Powells http://gowal.la/s/6fe"
      ]
     },
     "execution_count": 8,
     "metadata": {},
     "output_type": "execute_result"
    }
   ],
   "source": [
    "tweets_ham = text_to_df(input_file1)\n",
    "tweets_ham.head()"
   ]
  },
  {
   "cell_type": "code",
   "execution_count": 9,
   "metadata": {},
   "outputs": [
    {
     "data": {
      "text/html": [
       "<div>\n",
       "<style scoped>\n",
       "    .dataframe tbody tr th:only-of-type {\n",
       "        vertical-align: middle;\n",
       "    }\n",
       "\n",
       "    .dataframe tbody tr th {\n",
       "        vertical-align: top;\n",
       "    }\n",
       "\n",
       "    .dataframe thead th {\n",
       "        text-align: right;\n",
       "    }\n",
       "</style>\n",
       "<table border=\"1\" class=\"dataframe\">\n",
       "  <thead>\n",
       "    <tr style=\"text-align: right;\">\n",
       "      <th></th>\n",
       "      <th>Text</th>\n",
       "    </tr>\n",
       "  </thead>\n",
       "  <tbody>\n",
       "    <tr>\n",
       "      <th>count</th>\n",
       "      <td>3259693</td>\n",
       "    </tr>\n",
       "    <tr>\n",
       "      <th>unique</th>\n",
       "      <td>3202667</td>\n",
       "    </tr>\n",
       "    <tr>\n",
       "      <th>top</th>\n",
       "      <td>@tarot3</td>\n",
       "    </tr>\n",
       "    <tr>\n",
       "      <th>freq</th>\n",
       "      <td>255</td>\n",
       "    </tr>\n",
       "  </tbody>\n",
       "</table>\n",
       "</div>"
      ],
      "text/plain": [
       "           Text\n",
       "count   3259693\n",
       "unique  3202667\n",
       "top     @tarot3\n",
       "freq        255"
      ]
     },
     "execution_count": 9,
     "metadata": {},
     "output_type": "execute_result"
    }
   ],
   "source": [
    "tweets_ham.describe()"
   ]
  },
  {
   "cell_type": "code",
   "execution_count": 10,
   "metadata": {},
   "outputs": [
    {
     "data": {
      "text/html": [
       "<div>\n",
       "<style scoped>\n",
       "    .dataframe tbody tr th:only-of-type {\n",
       "        vertical-align: middle;\n",
       "    }\n",
       "\n",
       "    .dataframe tbody tr th {\n",
       "        vertical-align: top;\n",
       "    }\n",
       "\n",
       "    .dataframe thead th {\n",
       "        text-align: right;\n",
       "    }\n",
       "</style>\n",
       "<table border=\"1\" class=\"dataframe\">\n",
       "  <thead>\n",
       "    <tr style=\"text-align: right;\">\n",
       "      <th></th>\n",
       "      <th>Text</th>\n",
       "    </tr>\n",
       "  </thead>\n",
       "  <tbody>\n",
       "    <tr>\n",
       "      <th>0</th>\n",
       "      <td>MELBOURNE ENQUIRY: Seeking a variety of acts for our end of year show. Payment is $120 per slot or $200 for 2.... http://bit.ly/4Ah3fF</td>\n",
       "    </tr>\n",
       "    <tr>\n",
       "      <th>1</th>\n",
       "      <td>THE BURLESQUE BOOTCAMP SYDNEY - Open Date tickets now available from http://bbootcampsyd.eventbrite.com/ for Jan /... http://bit.ly/rCenZ</td>\n",
       "    </tr>\n",
       "    <tr>\n",
       "      <th>2</th>\n",
       "      <td>THE BURLESQUE BOOTCAMP SYDNEY - Open Date tickets now available from http://bbootcampsyd.eventbrite.com/ for Jan /... http://bit.ly/1v5hvb</td>\n",
       "    </tr>\n",
       "    <tr>\n",
       "      <th>3</th>\n",
       "      <td>THE BURLESQUE BOOTCAMP SYDNEY - Open Date tickets now available from http://bbootcampsyd.eventbrite.com/ for Jan /... http://fb.me/3rzipF0</td>\n",
       "    </tr>\n",
       "    <tr>\n",
       "      <th>4</th>\n",
       "      <td>Come to \"The Burlesque Bootcamp - Sydney\" Saturday, 23 January 2010 at 10:00 until &lt;br /&gt;Sunday, 24 January 2010 at... http://bit.ly/38simD</td>\n",
       "    </tr>\n",
       "  </tbody>\n",
       "</table>\n",
       "</div>"
      ],
      "text/plain": [
       "                                                                                                                                          Text\n",
       "0       MELBOURNE ENQUIRY: Seeking a variety of acts for our end of year show. Payment is $120 per slot or $200 for 2.... http://bit.ly/4Ah3fF\n",
       "1    THE BURLESQUE BOOTCAMP SYDNEY - Open Date tickets now available from http://bbootcampsyd.eventbrite.com/ for Jan /... http://bit.ly/rCenZ\n",
       "2   THE BURLESQUE BOOTCAMP SYDNEY - Open Date tickets now available from http://bbootcampsyd.eventbrite.com/ for Jan /... http://bit.ly/1v5hvb\n",
       "3   THE BURLESQUE BOOTCAMP SYDNEY - Open Date tickets now available from http://bbootcampsyd.eventbrite.com/ for Jan /... http://fb.me/3rzipF0\n",
       "4  Come to \"The Burlesque Bootcamp - Sydney\" Saturday, 23 January 2010 at 10:00 until <br />Sunday, 24 January 2010 at... http://bit.ly/38simD"
      ]
     },
     "execution_count": 10,
     "metadata": {},
     "output_type": "execute_result"
    }
   ],
   "source": [
    "tweets_spam = text_to_df(input_file2)\n",
    "tweets_spam.head()"
   ]
  },
  {
   "cell_type": "code",
   "execution_count": 11,
   "metadata": {},
   "outputs": [
    {
     "data": {
      "text/html": [
       "<div>\n",
       "<style scoped>\n",
       "    .dataframe tbody tr th:only-of-type {\n",
       "        vertical-align: middle;\n",
       "    }\n",
       "\n",
       "    .dataframe tbody tr th {\n",
       "        vertical-align: top;\n",
       "    }\n",
       "\n",
       "    .dataframe thead th {\n",
       "        text-align: right;\n",
       "    }\n",
       "</style>\n",
       "<table border=\"1\" class=\"dataframe\">\n",
       "  <thead>\n",
       "    <tr style=\"text-align: right;\">\n",
       "      <th></th>\n",
       "      <th>Text</th>\n",
       "    </tr>\n",
       "  </thead>\n",
       "  <tbody>\n",
       "    <tr>\n",
       "      <th>count</th>\n",
       "      <td>2353473</td>\n",
       "    </tr>\n",
       "    <tr>\n",
       "      <th>unique</th>\n",
       "      <td>1967975</td>\n",
       "    </tr>\n",
       "    <tr>\n",
       "      <th>top</th>\n",
       "      <td>ALL NEW TWITTER AUTOMATION SOFTWARE FOR YOUR PC http://bit.ly/6BiLk3 WITH UNLIMITED ACCOUNTS AND FUN TO USE - CHECKOUT OUR VIDEO</td>\n",
       "    </tr>\n",
       "    <tr>\n",
       "      <th>freq</th>\n",
       "      <td>586</td>\n",
       "    </tr>\n",
       "  </tbody>\n",
       "</table>\n",
       "</div>"
      ],
      "text/plain": [
       "                                                                                                                                    Text\n",
       "count                                                                                                                            2353473\n",
       "unique                                                                                                                           1967975\n",
       "top     ALL NEW TWITTER AUTOMATION SOFTWARE FOR YOUR PC http://bit.ly/6BiLk3 WITH UNLIMITED ACCOUNTS AND FUN TO USE - CHECKOUT OUR VIDEO\n",
       "freq                                                                                                                                 586"
      ]
     },
     "execution_count": 11,
     "metadata": {},
     "output_type": "execute_result"
    }
   ],
   "source": [
    "tweets_spam.describe()"
   ]
  },
  {
   "cell_type": "code",
   "execution_count": 12,
   "metadata": {},
   "outputs": [],
   "source": [
    "def clean_data(trial_text):\n",
    "    for i in trial_text.index:\n",
    "        trial_text.at[i,\"Text\"] = re.sub(r\"http\\S+\", \"url\", trial_text.at[i,\"Text\"])\n",
    "        trial_text.at[i,\"Text\"] = re.sub(r\"@\\S+\", \"usermention\", trial_text.at[i,\"Text\"])\n",
    "    trial_text.drop_duplicates(subset='Text', keep='first', inplace=True)\n",
    "    for i in trial_text.index:\n",
    "        trial_text.at[i,\"Text\"] = re.sub(r\"#\", \"\", trial_text.at[i,\"Text\"])\n",
    "        trial_text.at[i,\"Text\"] = re.sub(r\"\\bRT\\b\", \"retweet\", trial_text.at[i,\"Text\"])\n",
    "        trial_text.at[i,\"Text\"] = ' '.join(word for word in wordpunct_tokenize(trial_text.at[i,\"Text\"]) \n",
    "                                           if word.lower() not in stop_words)\n",
    "        trial_text.at[i,\"Text\"] = ' '.join(word.strip(string.punctuation) for word in trial_text.at[i,\"Text\"].split())\n",
    "        trial_text.at[i,\"Text\"] = wordpunct_tokenize(trial_text.at[i,\"Text\"].lower())\n",
    "        trial_text.at[i,\"Text\"] = ' '.join([wn.lemmatize(word, pos='v') for word in trial_text.at[i,\"Text\"]])\n",
    "        trial_text.at[i,\"Text\"] = ' '.join(word for word in word_tokenize(trial_text.at[i,\"Text\"]) if word in words)\n",
    "        trial_text.at[i,\"Text\"] = \" \".join(word for word in word_tokenize(trial_text.at[i,\"Text\"]) \n",
    "                                           if not (word.isalpha() and len(word)<3))\n",
    "    #Additional loop for processing glove dataset\n",
    "#      for i in trial_text.index:\n",
    "#          trial_text.at[i,\"Text\"] = re.sub(r\"\\burl\\b\", \"<url>\", trial_text.at[i,\"Text\"])\n",
    "#          trial_text.at[i,\"Text\"] = re.sub(r\"\\busermention\\b\", \"<user>\", trial_text.at[i,\"Text\"]) \n",
    "#          trial_text.at[i,\"Text\"] = re.sub(r\"\\bhashtag\\b\", \"<hashtag>\", trial_text.at[i,\"Text\"])\n",
    "#          trial_text.at[i,\"Text\"] = re.sub(r\"\\bretweet\\b\", \"rt\", trial_text.at[i,\"Text\"])\n",
    "    trial_text['num_words']=trial_text[\"Text\"].str.split().str.len()\n",
    "    trial_text = trial_text.drop(trial_text[trial_text.num_words < 2].index)\n",
    "    trial_text = trial_text.drop(['num_words'], axis=1)\n",
    "    return trial_text"
   ]
  },
  {
   "cell_type": "code",
   "execution_count": 13,
   "metadata": {},
   "outputs": [
    {
     "data": {
      "text/html": [
       "<div>\n",
       "<style scoped>\n",
       "    .dataframe tbody tr th:only-of-type {\n",
       "        vertical-align: middle;\n",
       "    }\n",
       "\n",
       "    .dataframe tbody tr th {\n",
       "        vertical-align: top;\n",
       "    }\n",
       "\n",
       "    .dataframe thead th {\n",
       "        text-align: right;\n",
       "    }\n",
       "</style>\n",
       "<table border=\"1\" class=\"dataframe\">\n",
       "  <thead>\n",
       "    <tr style=\"text-align: right;\">\n",
       "      <th></th>\n",
       "      <th>Text</th>\n",
       "    </tr>\n",
       "  </thead>\n",
       "  <tbody>\n",
       "    <tr>\n",
       "      <th>0</th>\n",
       "      <td>house party daybreak weird fear</td>\n",
       "    </tr>\n",
       "    <tr>\n",
       "      <th>1</th>\n",
       "      <td>taxi salt lake city international url</td>\n",
       "    </tr>\n",
       "    <tr>\n",
       "      <th>2</th>\n",
       "      <td>almost home international url</td>\n",
       "    </tr>\n",
       "    <tr>\n",
       "      <th>3</th>\n",
       "      <td>lunch url</td>\n",
       "    </tr>\n",
       "    <tr>\n",
       "      <th>4</th>\n",
       "      <td>book usermention url</td>\n",
       "    </tr>\n",
       "  </tbody>\n",
       "</table>\n",
       "</div>"
      ],
      "text/plain": [
       "                                    Text\n",
       "0        house party daybreak weird fear\n",
       "1  taxi salt lake city international url\n",
       "2          almost home international url\n",
       "3                              lunch url\n",
       "4                   book usermention url"
      ]
     },
     "execution_count": 13,
     "metadata": {},
     "output_type": "execute_result"
    }
   ],
   "source": [
    "clean_ham_df = clean_data(tweets_ham)\n",
    "clean_ham_df.head()"
   ]
  },
  {
   "cell_type": "code",
   "execution_count": 14,
   "metadata": {},
   "outputs": [
    {
     "data": {
      "text/plain": [
       "Text    0\n",
       "dtype: int64"
      ]
     },
     "execution_count": 14,
     "metadata": {},
     "output_type": "execute_result"
    }
   ],
   "source": [
    "clean_ham_df.isnull().sum()"
   ]
  },
  {
   "cell_type": "code",
   "execution_count": 15,
   "metadata": {},
   "outputs": [
    {
     "data": {
      "text/html": [
       "<div>\n",
       "<style scoped>\n",
       "    .dataframe tbody tr th:only-of-type {\n",
       "        vertical-align: middle;\n",
       "    }\n",
       "\n",
       "    .dataframe tbody tr th {\n",
       "        vertical-align: top;\n",
       "    }\n",
       "\n",
       "    .dataframe thead th {\n",
       "        text-align: right;\n",
       "    }\n",
       "</style>\n",
       "<table border=\"1\" class=\"dataframe\">\n",
       "  <thead>\n",
       "    <tr style=\"text-align: right;\">\n",
       "      <th></th>\n",
       "      <th>Text</th>\n",
       "    </tr>\n",
       "  </thead>\n",
       "  <tbody>\n",
       "    <tr>\n",
       "      <th>count</th>\n",
       "      <td>2254052</td>\n",
       "    </tr>\n",
       "    <tr>\n",
       "      <th>unique</th>\n",
       "      <td>1788328</td>\n",
       "    </tr>\n",
       "    <tr>\n",
       "      <th>top</th>\n",
       "      <td>retweet usermention</td>\n",
       "    </tr>\n",
       "    <tr>\n",
       "      <th>freq</th>\n",
       "      <td>16340</td>\n",
       "    </tr>\n",
       "  </tbody>\n",
       "</table>\n",
       "</div>"
      ],
      "text/plain": [
       "                       Text\n",
       "count               2254052\n",
       "unique              1788328\n",
       "top     retweet usermention\n",
       "freq                  16340"
      ]
     },
     "execution_count": 15,
     "metadata": {},
     "output_type": "execute_result"
    }
   ],
   "source": [
    "clean_ham_df.describe()"
   ]
  },
  {
   "cell_type": "code",
   "execution_count": 16,
   "metadata": {},
   "outputs": [
    {
     "data": {
      "text/html": [
       "<div>\n",
       "<style scoped>\n",
       "    .dataframe tbody tr th:only-of-type {\n",
       "        vertical-align: middle;\n",
       "    }\n",
       "\n",
       "    .dataframe tbody tr th {\n",
       "        vertical-align: top;\n",
       "    }\n",
       "\n",
       "    .dataframe thead th {\n",
       "        text-align: right;\n",
       "    }\n",
       "</style>\n",
       "<table border=\"1\" class=\"dataframe\">\n",
       "  <thead>\n",
       "    <tr style=\"text-align: right;\">\n",
       "      <th></th>\n",
       "      <th>Text</th>\n",
       "    </tr>\n",
       "  </thead>\n",
       "  <tbody>\n",
       "    <tr>\n",
       "      <th>0</th>\n",
       "      <td>enquiry seek variety act end year show payment per slot url</td>\n",
       "    </tr>\n",
       "    <tr>\n",
       "      <th>1</th>\n",
       "      <td>burlesque open date ticket available url url</td>\n",
       "    </tr>\n",
       "    <tr>\n",
       "      <th>4</th>\n",
       "      <td>come burlesque url</td>\n",
       "    </tr>\n",
       "    <tr>\n",
       "      <th>5</th>\n",
       "      <td>century write perform black flamingo berlin url</td>\n",
       "    </tr>\n",
       "    <tr>\n",
       "      <th>6</th>\n",
       "      <td>burlesque come burlesque head url</td>\n",
       "    </tr>\n",
       "  </tbody>\n",
       "</table>\n",
       "</div>"
      ],
      "text/plain": [
       "                                                          Text\n",
       "0  enquiry seek variety act end year show payment per slot url\n",
       "1                 burlesque open date ticket available url url\n",
       "4                                           come burlesque url\n",
       "5              century write perform black flamingo berlin url\n",
       "6                            burlesque come burlesque head url"
      ]
     },
     "execution_count": 16,
     "metadata": {},
     "output_type": "execute_result"
    }
   ],
   "source": [
    "clean_spam_df = clean_data(tweets_spam)\n",
    "clean_spam_df.head()"
   ]
  },
  {
   "cell_type": "code",
   "execution_count": 17,
   "metadata": {},
   "outputs": [
    {
     "data": {
      "text/plain": [
       "Text    0\n",
       "dtype: int64"
      ]
     },
     "execution_count": 17,
     "metadata": {},
     "output_type": "execute_result"
    }
   ],
   "source": [
    "clean_spam_df.isnull().sum()"
   ]
  },
  {
   "cell_type": "code",
   "execution_count": 18,
   "metadata": {},
   "outputs": [
    {
     "data": {
      "text/html": [
       "<div>\n",
       "<style scoped>\n",
       "    .dataframe tbody tr th:only-of-type {\n",
       "        vertical-align: middle;\n",
       "    }\n",
       "\n",
       "    .dataframe tbody tr th {\n",
       "        vertical-align: top;\n",
       "    }\n",
       "\n",
       "    .dataframe thead th {\n",
       "        text-align: right;\n",
       "    }\n",
       "</style>\n",
       "<table border=\"1\" class=\"dataframe\">\n",
       "  <thead>\n",
       "    <tr style=\"text-align: right;\">\n",
       "      <th></th>\n",
       "      <th>Text</th>\n",
       "    </tr>\n",
       "  </thead>\n",
       "  <tbody>\n",
       "    <tr>\n",
       "      <th>count</th>\n",
       "      <td>1688086</td>\n",
       "    </tr>\n",
       "    <tr>\n",
       "      <th>unique</th>\n",
       "      <td>1480393</td>\n",
       "    </tr>\n",
       "    <tr>\n",
       "      <th>top</th>\n",
       "      <td>subscribe channel url</td>\n",
       "    </tr>\n",
       "    <tr>\n",
       "      <th>freq</th>\n",
       "      <td>2638</td>\n",
       "    </tr>\n",
       "  </tbody>\n",
       "</table>\n",
       "</div>"
      ],
      "text/plain": [
       "                         Text\n",
       "count                 1688086\n",
       "unique                1480393\n",
       "top     subscribe channel url\n",
       "freq                     2638"
      ]
     },
     "execution_count": 18,
     "metadata": {},
     "output_type": "execute_result"
    }
   ],
   "source": [
    "clean_spam_df.describe()"
   ]
  },
  {
   "cell_type": "code",
   "execution_count": 19,
   "metadata": {},
   "outputs": [
    {
     "name": "stdout",
     "output_type": "stream",
     "text": [
      "35\n",
      "17\n",
      "16\n",
      "22114\n",
      "['sad', 'sad', 'sad', 'sad', 'sad', 'sad', 'sad', 'sad', 'sad', 'sad', 'sad', 'sad', 'sad', 'sad', 'sad', 'sad', 'sad', 'sad', 'sad', 'sad', 'sad', 'sad', 'sad', 'sad', 'sad', 'sad', 'sad', 'sad', 'sad', 'sad', 'sad', 'sad', 'sad', 'sad', 'sad']\n",
      "['need', 'supplemental', 'gear', 'bag', 'leg', 'bag', 'butt', 'pack', 'leg', 'bag', 'smaller', 'butt', 'pack', 'flop', 'around', 'double', 'time']\n"
     ]
    }
   ],
   "source": [
    "# Check length of longest tweet\n",
    "x = clean_ham_df[\"Text\"].str.split(\" \")\n",
    "max_len1 = 0\n",
    "max_len2 = 0\n",
    "max_len3 = 0\n",
    "max_row1 = 0\n",
    "count = 0\n",
    "index = 0\n",
    "\n",
    "for i in x:\n",
    "    if len(i)>max_len1:\n",
    "        max_len3 = max_len2\n",
    "        max_len2 = max_len1\n",
    "        max_len1 = len(i)\n",
    "        max_row2 = max_row1\n",
    "        max_row1 = i\n",
    "        index = count\n",
    "    count = count+1\n",
    "        \n",
    "print(max_len1)\n",
    "print(max_len2)\n",
    "print(max_len3)\n",
    "print(index)\n",
    "print(max_row1)\n",
    "print(max_row2)"
   ]
  },
  {
   "cell_type": "code",
   "execution_count": 29,
   "metadata": {},
   "outputs": [
    {
     "name": "stdout",
     "output_type": "stream",
     "text": [
      "['rt', '<user>', 'want', 'bother', 'rt', '<user>', 'rt', '<user>', 'rt', '<user>', 'rt', '<user>', 'rt', '<user>', 'rt', '<user>', 'rt', '<user>', 'rt', '<user>', 'rt']\n",
      "['ring', 'ring', 'ring', 'ring', 'ring', 'ring', 'ring', 'ring', 'ring', 'ring', 'ring', 'ring', 'ring', 'ring', 'ring', 'ring', 'ring', 'ring', 'ring', 'ring', '<url>']\n",
      "['rt', '<user>', '<user>', '<hashtag>', '<hashtag>', '<hashtag>', '<hashtag>', '<hashtag>', '<hashtag>', '<hashtag>', '<hashtag>', '<hashtag>', '<hashtag>', '<hashtag>', '<hashtag>', '<hashtag>', '<hashtag>', '<hashtag>', '<hashtag>', '<hashtag>', '<hashtag>']\n",
      "['half', 'past', 'seven', 'half', 'past', 'seven', 'half', 'past', 'seven', 'half', 'past', 'seven', 'half', 'past', 'seven', 'half', 'past', 'seven', 'like', 'ending', 'horror']\n",
      "['let', 'get', 'ready', '<hashtag>', '<hashtag>', '<hashtag>', '<hashtag>', '<hashtag>', '<hashtag>', '<hashtag>', '<hashtag>', '<hashtag>', '<hashtag>', '<hashtag>', '<hashtag>', '<hashtag>', '<hashtag>', '<hashtag>', '<hashtag>', '<hashtag>', '<hashtag>']\n",
      "['<user>', 'everything', 'record', 'different', 'foo', 'feel', 'dont', 'sound', 'like', 'dope', 'man', 'dope', 'man', 'dont', 'sound', 'like', 'goon', 'got', 'rock', 'pop', 'country']\n",
      "['team', 'cyrus', 'forever', 'team', 'cyrus', 'forever', 'team', 'cyrus', 'forever', 'team', 'cyrus', 'forever', 'team', 'cyrus', 'forever', 'team', 'cyrus', 'forever', 'team', 'cyrus', 'forever']\n",
      "['team', 'cyrus', 'forever', 'team', 'cyrus', 'forever', 'team', 'cyrus', 'forever', 'team', 'cyrus', 'forever', 'team', 'cyrus', 'forever', 'team', 'cyrus', 'forever', 'team', 'cyrus', 'forever']\n",
      "['rt', '<user>', '<user>', 'nothing', 'like', 'word', '<hashtag>', 'new', 'car', 'new', 'purse', 'new', 'shoe', 'new', 'pussy', 'new', 'house', 'bout', 'new', 'new', 'boo']\n",
      "['sop', 'kaki', 'nasi', 'sop', 'kaki', 'nasi', 'sop', 'kaki', 'nasi', 'sop', 'kaki', 'nasi', 'sop', 'kaki', 'nasi', 'sop', 'kaki', 'nasi', 'sop', 'kaki', 'nasi']\n",
      "['joe', 'let', 'see', 'body', 'bounce', 'baby', 'nick', 'let', 'see', 'body', 'bounce', 'joe', 'let', 'see', 'body', 'bounce', 'right', 'nick', 'yeah', 'man', 'nick']\n",
      "['rt', '<user>', 'rt', '<user>', '<user>', '<hashtag>', '<hashtag>', '<hashtag>', '<hashtag>', '<hashtag>', '<hashtag>', '<hashtag>', '<hashtag>', '<hashtag>', '<hashtag>', '<hashtag>', '<hashtag>', '<hashtag>', '<hashtag>', '<hashtag>', '<hashtag>']\n",
      "['wan', 'sorry', 'weirdness', 'muse', 'muse', 'muse', 'muse', 'muse', 'muse', 'muse', 'muse', 'muse', 'muse', 'muse', 'muse', 'muse', 'muse', 'muse', 'muse', 'muse', 'muse']\n",
      "['blue', 'baa', 'dee', 'baa', 'dye', 'baa', 'dee', 'baa', 'dye', 'baa', 'dee', 'baa', 'dye', 'baa', 'dee', 'baa', 'dye', 'baa', 'dee', 'baa', 'dye']\n",
      "['come', '<hashtag>', 'party', '<hashtag>', 'party', '<hashtag>', 'party', '<hashtag>', 'party', '<hashtag>', 'party', '<hashtag>', 'party', '<hashtag>', 'party', '<hashtag>', 'party', '<hashtag>', 'party', '<hashtag>', 'party']\n",
      "['also', 'hate', 'fan', 'suck', 'suck', 'suck', 'suck', 'suck', 'suck', 'suck', 'suck', 'suck', 'suck', 'suck', 'suck', 'suck', 'suck', 'suck', 'suck', 'suck', 'suck']\n",
      "number of length 2 tweets: 16\n"
     ]
    }
   ],
   "source": [
    "num = 0\n",
    "for i in x:\n",
    "    if len(i)==21:\n",
    "        print(i)\n",
    "        num+=1\n",
    "print(\"number of length {} tweets: {}\".format(len(i),num))"
   ]
  },
  {
   "cell_type": "code",
   "execution_count": 20,
   "metadata": {},
   "outputs": [
    {
     "data": {
      "text/html": [
       "<div>\n",
       "<style scoped>\n",
       "    .dataframe tbody tr th:only-of-type {\n",
       "        vertical-align: middle;\n",
       "    }\n",
       "\n",
       "    .dataframe tbody tr th {\n",
       "        vertical-align: top;\n",
       "    }\n",
       "\n",
       "    .dataframe thead th {\n",
       "        text-align: right;\n",
       "    }\n",
       "</style>\n",
       "<table border=\"1\" class=\"dataframe\">\n",
       "  <thead>\n",
       "    <tr style=\"text-align: right;\">\n",
       "      <th></th>\n",
       "      <th>Text</th>\n",
       "      <th>Label</th>\n",
       "    </tr>\n",
       "  </thead>\n",
       "  <tbody>\n",
       "    <tr>\n",
       "      <th>count</th>\n",
       "      <td>2250118</td>\n",
       "      <td>2250118</td>\n",
       "    </tr>\n",
       "    <tr>\n",
       "      <th>unique</th>\n",
       "      <td>1794583</td>\n",
       "      <td>1</td>\n",
       "    </tr>\n",
       "    <tr>\n",
       "      <th>top</th>\n",
       "      <td>retweet usermention</td>\n",
       "      <td>Ham</td>\n",
       "    </tr>\n",
       "    <tr>\n",
       "      <th>freq</th>\n",
       "      <td>16349</td>\n",
       "      <td>2250118</td>\n",
       "    </tr>\n",
       "  </tbody>\n",
       "</table>\n",
       "</div>"
      ],
      "text/plain": [
       "                       Text    Label\n",
       "count               2250118  2250118\n",
       "unique              1794583        1\n",
       "top     retweet usermention      Ham\n",
       "freq                  16349  2250118"
      ]
     },
     "execution_count": 20,
     "metadata": {},
     "output_type": "execute_result"
    }
   ],
   "source": [
    "clean_ham_df['Label'] = 'Ham'\n",
    "clean_ham_df.describe()"
   ]
  },
  {
   "cell_type": "code",
   "execution_count": 21,
   "metadata": {},
   "outputs": [
    {
     "data": {
      "text/html": [
       "<div>\n",
       "<style scoped>\n",
       "    .dataframe tbody tr th:only-of-type {\n",
       "        vertical-align: middle;\n",
       "    }\n",
       "\n",
       "    .dataframe tbody tr th {\n",
       "        vertical-align: top;\n",
       "    }\n",
       "\n",
       "    .dataframe thead th {\n",
       "        text-align: right;\n",
       "    }\n",
       "</style>\n",
       "<table border=\"1\" class=\"dataframe\">\n",
       "  <thead>\n",
       "    <tr style=\"text-align: right;\">\n",
       "      <th></th>\n",
       "      <th>Text</th>\n",
       "      <th>Label</th>\n",
       "    </tr>\n",
       "  </thead>\n",
       "  <tbody>\n",
       "    <tr>\n",
       "      <th>count</th>\n",
       "      <td>1688741</td>\n",
       "      <td>1688741</td>\n",
       "    </tr>\n",
       "    <tr>\n",
       "      <th>unique</th>\n",
       "      <td>1489713</td>\n",
       "      <td>1</td>\n",
       "    </tr>\n",
       "    <tr>\n",
       "      <th>top</th>\n",
       "      <td>channel url</td>\n",
       "      <td>Spam</td>\n",
       "    </tr>\n",
       "    <tr>\n",
       "      <th>freq</th>\n",
       "      <td>2662</td>\n",
       "      <td>1688741</td>\n",
       "    </tr>\n",
       "  </tbody>\n",
       "</table>\n",
       "</div>"
      ],
      "text/plain": [
       "               Text    Label\n",
       "count       1688741  1688741\n",
       "unique      1489713        1\n",
       "top     channel url     Spam\n",
       "freq           2662  1688741"
      ]
     },
     "execution_count": 21,
     "metadata": {},
     "output_type": "execute_result"
    }
   ],
   "source": [
    "clean_spam_df['Label'] = 'Spam'\n",
    "clean_spam_df.describe()"
   ]
  },
  {
   "cell_type": "code",
   "execution_count": 22,
   "metadata": {},
   "outputs": [
    {
     "data": {
      "text/html": [
       "<div>\n",
       "<style scoped>\n",
       "    .dataframe tbody tr th:only-of-type {\n",
       "        vertical-align: middle;\n",
       "    }\n",
       "\n",
       "    .dataframe tbody tr th {\n",
       "        vertical-align: top;\n",
       "    }\n",
       "\n",
       "    .dataframe thead th {\n",
       "        text-align: right;\n",
       "    }\n",
       "</style>\n",
       "<table border=\"1\" class=\"dataframe\">\n",
       "  <thead>\n",
       "    <tr style=\"text-align: right;\">\n",
       "      <th></th>\n",
       "      <th>Text</th>\n",
       "      <th>Label</th>\n",
       "    </tr>\n",
       "  </thead>\n",
       "  <tbody>\n",
       "    <tr>\n",
       "      <th>count</th>\n",
       "      <td>3938859</td>\n",
       "      <td>3938859</td>\n",
       "    </tr>\n",
       "    <tr>\n",
       "      <th>unique</th>\n",
       "      <td>3246550</td>\n",
       "      <td>2</td>\n",
       "    </tr>\n",
       "    <tr>\n",
       "      <th>top</th>\n",
       "      <td>retweet usermention</td>\n",
       "      <td>Ham</td>\n",
       "    </tr>\n",
       "    <tr>\n",
       "      <th>freq</th>\n",
       "      <td>17306</td>\n",
       "      <td>2250118</td>\n",
       "    </tr>\n",
       "  </tbody>\n",
       "</table>\n",
       "</div>"
      ],
      "text/plain": [
       "                       Text    Label\n",
       "count               3938859  3938859\n",
       "unique              3246550        2\n",
       "top     retweet usermention      Ham\n",
       "freq                  17306  2250118"
      ]
     },
     "execution_count": 22,
     "metadata": {},
     "output_type": "execute_result"
    }
   ],
   "source": [
    "tweets_text = clean_ham_df.append(clean_spam_df, ignore_index=True)\n",
    "tweets_text.describe()"
   ]
  },
  {
   "cell_type": "code",
   "execution_count": 23,
   "metadata": {},
   "outputs": [
    {
     "name": "stdout",
     "output_type": "stream",
     "text": [
      "Out of 3938859 rows, 1688741 are spams, 2250118 are non-spams\n"
     ]
    }
   ],
   "source": [
    "#Summary of Tweet Text dataset\n",
    "print(\"Out of {} rows, {} are spams, {} are non-spams\".format(len(tweets_text),\n",
    "                                                              len(tweets_text[tweets_text['Label']=='Spam']),\n",
    "                                                              len(tweets_text[tweets_text['Label']=='Ham'])))"
   ]
  },
  {
   "cell_type": "code",
   "execution_count": 24,
   "metadata": {},
   "outputs": [
    {
     "data": {
      "text/plain": [
       "Text     0\n",
       "Label    0\n",
       "dtype: int64"
      ]
     },
     "execution_count": 24,
     "metadata": {},
     "output_type": "execute_result"
    }
   ],
   "source": [
    "tweets_text.isnull().sum()"
   ]
  },
  {
   "cell_type": "code",
   "execution_count": 25,
   "metadata": {},
   "outputs": [],
   "source": [
    "#export cleaned Tweet Text dataset\n",
    "tweets_text.to_csv('dataset_improved_260321.txt', sep='\\t', index=False, header=False)"
   ]
  },
  {
   "cell_type": "code",
   "execution_count": null,
   "metadata": {},
   "outputs": [],
   "source": []
  }
 ],
 "metadata": {
  "kernelspec": {
   "display_name": "Python 3",
   "language": "python",
   "name": "python3"
  },
  "language_info": {
   "codemirror_mode": {
    "name": "ipython",
    "version": 3
   },
   "file_extension": ".py",
   "mimetype": "text/x-python",
   "name": "python",
   "nbconvert_exporter": "python",
   "pygments_lexer": "ipython3",
   "version": "3.6.10"
  }
 },
 "nbformat": 4,
 "nbformat_minor": 5
}
