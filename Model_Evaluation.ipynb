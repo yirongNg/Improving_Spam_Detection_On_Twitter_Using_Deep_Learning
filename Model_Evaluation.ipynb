{
 "cells": [
  {
   "cell_type": "code",
   "execution_count": 1,
   "metadata": {},
   "outputs": [
    {
     "name": "stderr",
     "output_type": "stream",
     "text": [
      "Using TensorFlow backend.\n"
     ]
    }
   ],
   "source": [
    "import pickle\n",
    "import numpy as np\n",
    "import pandas as pd\n",
    "from sklearn.model_selection import train_test_split\n",
    "import tensorflow as tf\n",
    "from keras.models import Sequential, load_model\n",
    "from keras.preprocessing.text import Tokenizer\n",
    "from keras.preprocessing.sequence import pad_sequences\n",
    "from sklearn.metrics import accuracy_score, precision_score, recall_score, f1_score, classification_report, confusion_matrix\n",
    "import matplotlib.pyplot as plt\n",
    "import seaborn as sns\n",
    "%matplotlib inline"
   ]
  },
  {
   "cell_type": "code",
   "execution_count": 2,
   "metadata": {},
   "outputs": [
    {
     "name": "stdout",
     "output_type": "stream",
     "text": [
      "Out of 4841788 rows, 2277405 are spams, 2564383 are non-spams\n"
     ]
    }
   ],
   "source": [
    "pd.set_option('display.max_colwidth', 140)\n",
    "\n",
    "tweets_text = pd.read_csv(\"dataset_3.txt\", sep='\\t', header=None)\n",
    "tweets_text.columns = ['Text','Label']\n",
    "\n",
    "print(\"Out of {} rows, {} are spams, {} are non-spams\".format(len(tweets_text),\n",
    "                                                              len(tweets_text[tweets_text['Label']=='Spam']),\n",
    "                                                              len(tweets_text[tweets_text['Label']=='Ham'])))"
   ]
  },
  {
   "cell_type": "code",
   "execution_count": 3,
   "metadata": {},
   "outputs": [],
   "source": [
    "# Convert labels to numeric format\n",
    "tweets_text['Label'] = np.where(tweets_text['Label']=='Spam',1,0)\n",
    "\n",
    "X_train, X_test, y_train, y_test = train_test_split(tweets_text['Text'], tweets_text['Label'], \n",
    "                                                    test_size=0.01, random_state=1)\n",
    "\n",
    "X_train, X_val, y_train, y_val = train_test_split(X_train, y_train, test_size=0.010101, random_state=2)"
   ]
  },
  {
   "cell_type": "code",
   "execution_count": 4,
   "metadata": {},
   "outputs": [],
   "source": [
    "# Convert labels to numpy arrays\n",
    "y_train = y_train.values\n",
    "y_test = y_test.values\n",
    "y_val = y_val.values"
   ]
  },
  {
   "cell_type": "code",
   "execution_count": 5,
   "metadata": {},
   "outputs": [
    {
     "name": "stdout",
     "output_type": "stream",
     "text": [
      "Number of vocabulary: 45164\n"
     ]
    }
   ],
   "source": [
    "#Load the tokenizer\n",
    "with open('tokenizer.pickle', 'rb') as handle:\n",
    "    tokenizer = pickle.load(handle)\n",
    "\n",
    "print(\"Number of vocabulary: {}\".format(len(tokenizer.word_index)))"
   ]
  },
  {
   "cell_type": "code",
   "execution_count": 6,
   "metadata": {},
   "outputs": [],
   "source": [
    "def text_processing(data):\n",
    "    seq = tokenizer.texts_to_sequences(data)\n",
    "    seq_pad = pad_sequences(seq, maxlen=46, padding='pre')\n",
    "    return seq_pad"
   ]
  },
  {
   "cell_type": "code",
   "execution_count": 7,
   "metadata": {},
   "outputs": [],
   "source": [
    "X_test_seq_padded = text_processing(X_test)\n",
    "X_val_seq_padded = text_processing(X_val)"
   ]
  },
  {
   "cell_type": "code",
   "execution_count": 8,
   "metadata": {},
   "outputs": [
    {
     "name": "stdout",
     "output_type": "stream",
     "text": [
      "Model: \"sequential_2\"\n",
      "_________________________________________________________________\n",
      "Layer (type)                 Output Shape              Param #   \n",
      "=================================================================\n",
      "embedding_2 (Embedding)      (None, 46, 50)            2258250   \n",
      "_________________________________________________________________\n",
      "lstm_2 (LSTM)                (None, 32)                10624     \n",
      "_________________________________________________________________\n",
      "dense_3 (Dense)              (None, 32)                1056      \n",
      "_________________________________________________________________\n",
      "dropout_2 (Dropout)          (None, 32)                0         \n",
      "_________________________________________________________________\n",
      "dense_4 (Dense)              (None, 1)                 33        \n",
      "=================================================================\n",
      "Total params: 2,269,963\n",
      "Trainable params: 2,269,963\n",
      "Non-trainable params: 0\n",
      "_________________________________________________________________\n"
     ]
    },
    {
     "name": "stderr",
     "output_type": "stream",
     "text": [
      "C:\\Users\\Yirong\\miniconda3\\envs\\python36_for_tensorflow\\lib\\site-packages\\keras\\engine\\saving.py:341: UserWarning: No training configuration found in save file: the model was *not* compiled. Compile it manually.\n",
      "  warnings.warn('No training configuration found in save file: '\n"
     ]
    }
   ],
   "source": [
    "tf.random.set_seed(1234)\n",
    "model = load_model('rnn_3.hdf5')\n",
    "opt = tf.keras.optimizers.Adam(learning_rate=0.001)\n",
    "model.compile(optimizer=opt, loss='binary_crossentropy', metrics=['accuracy'])\n",
    "model.summary()"
   ]
  },
  {
   "cell_type": "code",
   "execution_count": 9,
   "metadata": {},
   "outputs": [
    {
     "name": "stdout",
     "output_type": "stream",
     "text": [
      "48418/48418 [==============================] - 473s 10ms/step\n",
      "Test Accuracy: 0.814\n",
      "Test Loss: 0.427\n"
     ]
    }
   ],
   "source": [
    "test_loss, test_acc = model.evaluate(X_test_seq_padded, y_test, batch_size=1, verbose=1)\n",
    "\n",
    "print(\"Test Accuracy: {}\".format(round(test_acc,3)))\n",
    "print(\"Test Loss: {}\".format(round(test_loss,3)))"
   ]
  },
  {
   "cell_type": "code",
   "execution_count": 10,
   "metadata": {},
   "outputs": [
    {
     "name": "stdout",
     "output_type": "stream",
     "text": [
      "Accuracy: 0.814\n",
      "Precision: 0.835\n",
      "Recall: 0.755\n",
      "F-Measure: 0.793\n"
     ]
    }
   ],
   "source": [
    "y_pred = (model.predict(X_test_seq_padded)>0.5).astype(\"int32\")\n",
    "\n",
    "print(\"Accuracy: {}\".format(round(accuracy_score(y_test, y_pred),3)))\n",
    "print(\"Precision: {}\".format(round(precision_score(y_test, y_pred),3)))\n",
    "print(\"Recall: {}\".format(round(recall_score(y_test, y_pred),3)))\n",
    "print(\"F-Measure: {}\".format(round(f1_score(y_test, y_pred),3)))"
   ]
  },
  {
   "cell_type": "code",
   "execution_count": 11,
   "metadata": {},
   "outputs": [
    {
     "name": "stdout",
     "output_type": "stream",
     "text": [
      "              precision    recall  f1-score   support\n",
      "\n",
      "           0       0.80      0.87      0.83     25545\n",
      "           1       0.84      0.76      0.79     22873\n",
      "\n",
      "    accuracy                           0.81     48418\n",
      "   macro avg       0.82      0.81      0.81     48418\n",
      "weighted avg       0.82      0.81      0.81     48418\n",
      "\n"
     ]
    }
   ],
   "source": [
    "report = classification_report(y_test, y_pred)\n",
    "print(report)"
   ]
  },
  {
   "cell_type": "code",
   "execution_count": 12,
   "metadata": {},
   "outputs": [
    {
     "data": {
      "text/plain": [
       "Text(0.5, 1, 'Confusion Matrix')"
      ]
     },
     "execution_count": 12,
     "metadata": {},
     "output_type": "execute_result"
    },
    {
     "data": {
      "image/png": "[encoded data removed]",
      "text/plain": [
       "<Figure size 432x288 with 1 Axes>"
      ]
     },
     "metadata": {
      "needs_background": "light"
     },
     "output_type": "display_data"
    }
   ],
   "source": [
    "sns.heatmap(confusion_matrix(y_test, y_pred), annot=True, fmt='d', cbar=False, cmap=plt.cm.Blues)\n",
    "plt.ylabel('Actual Label', fontsize=10)\n",
    "plt.xlabel('Predicted Label', fontsize=10)\n",
    "plt.title('Confusion Matrix', fontsize=10)"
   ]
  },
  {
   "cell_type": "code",
   "execution_count": 17,
   "metadata": {},
   "outputs": [
    {
     "data": {
      "text/plain": [
       "4599039    ultimate fight say unrepentant silva make mockery of sport yahoo sport silva antic at locator\n",
       "4319699                                        shop with and earn reward point for free lingerie locator\n",
       "4282323                             stop wasting money on worthless lead get qualified lead free locator\n",
       "2242802                                                                   the shape by the shape locator\n",
       "4238344                                                                                   to get text to\n",
       "Name: Text, dtype: object"
      ]
     },
     "execution_count": 17,
     "metadata": {},
     "output_type": "execute_result"
    }
   ],
   "source": [
    "X_test.head()"
   ]
  },
  {
   "cell_type": "code",
   "execution_count": 18,
   "metadata": {},
   "outputs": [
    {
     "data": {
      "text/plain": [
       "array([[1],\n",
       "       [1],\n",
       "       [1],\n",
       "       [1],\n",
       "       [0]])"
      ]
     },
     "execution_count": 18,
     "metadata": {},
     "output_type": "execute_result"
    }
   ],
   "source": [
    "y_pred[0:5]"
   ]
  },
  {
   "cell_type": "code",
   "execution_count": 19,
   "metadata": {},
   "outputs": [
    {
     "data": {
      "text/plain": [
       "array([1, 1, 1, 0, 1])"
      ]
     },
     "execution_count": 19,
     "metadata": {},
     "output_type": "execute_result"
    }
   ],
   "source": [
    "y_test[0:5]"
   ]
  },
  {
   "cell_type": "code",
   "execution_count": 24,
   "metadata": {},
   "outputs": [],
   "source": [
    "df_list = list(X_test.values)\n",
    "df = pd.DataFrame(df_list, columns=[\"text\"])\n",
    "df[\"actual\"] = y_test\n",
    "df[\"predicted\"] = y_pred\n",
    "\n",
    "incorrect = df[df[\"actual\"] != df[\"predicted\"]]"
   ]
  },
  {
   "cell_type": "code",
   "execution_count": 25,
   "metadata": {},
   "outputs": [
    {
     "data": {
      "text/html": [
       "<div>\n",
       "<style scoped>\n",
       "    .dataframe tbody tr th:only-of-type {\n",
       "        vertical-align: middle;\n",
       "    }\n",
       "\n",
       "    .dataframe tbody tr th {\n",
       "        vertical-align: top;\n",
       "    }\n",
       "\n",
       "    .dataframe thead th {\n",
       "        text-align: right;\n",
       "    }\n",
       "</style>\n",
       "<table border=\"1\" class=\"dataframe\">\n",
       "  <thead>\n",
       "    <tr style=\"text-align: right;\">\n",
       "      <th></th>\n",
       "      <th>text</th>\n",
       "      <th>actual</th>\n",
       "      <th>predicted</th>\n",
       "    </tr>\n",
       "  </thead>\n",
       "  <tbody>\n",
       "    <tr>\n",
       "      <th>3</th>\n",
       "      <td>the shape by the shape locator</td>\n",
       "      <td>0</td>\n",
       "      <td>1</td>\n",
       "    </tr>\n",
       "    <tr>\n",
       "      <th>4</th>\n",
       "      <td>to get text to</td>\n",
       "      <td>1</td>\n",
       "      <td>0</td>\n",
       "    </tr>\n",
       "    <tr>\n",
       "      <th>19</th>\n",
       "      <td>holy mention wa blistering from the jump to da hump to the very end and what sell flawless</td>\n",
       "      <td>1</td>\n",
       "      <td>0</td>\n",
       "    </tr>\n",
       "    <tr>\n",
       "      <th>33</th>\n",
       "      <td>is if alcohol tonight is worth the consequence of the reaction tomorrow</td>\n",
       "      <td>1</td>\n",
       "      <td>0</td>\n",
       "    </tr>\n",
       "    <tr>\n",
       "      <th>39</th>\n",
       "      <td>my look so cute</td>\n",
       "      <td>1</td>\n",
       "      <td>0</td>\n",
       "    </tr>\n",
       "    <tr>\n",
       "      <th>...</th>\n",
       "      <td>...</td>\n",
       "      <td>...</td>\n",
       "      <td>...</td>\n",
       "    </tr>\n",
       "    <tr>\n",
       "      <th>48382</th>\n",
       "      <td>now on locator</td>\n",
       "      <td>0</td>\n",
       "      <td>1</td>\n",
       "    </tr>\n",
       "    <tr>\n",
       "      <th>48390</th>\n",
       "      <td>mention wisdom teeth</td>\n",
       "      <td>1</td>\n",
       "      <td>0</td>\n",
       "    </tr>\n",
       "    <tr>\n",
       "      <th>48391</th>\n",
       "      <td>ignite is tonight locator be there or be somewhere else</td>\n",
       "      <td>1</td>\n",
       "      <td>0</td>\n",
       "    </tr>\n",
       "    <tr>\n",
       "      <th>48397</th>\n",
       "      <td>don speak unless you can improve on the silence</td>\n",
       "      <td>0</td>\n",
       "      <td>1</td>\n",
       "    </tr>\n",
       "    <tr>\n",
       "      <th>48404</th>\n",
       "      <td>mention which pic</td>\n",
       "      <td>1</td>\n",
       "      <td>0</td>\n",
       "    </tr>\n",
       "  </tbody>\n",
       "</table>\n",
       "<p>9046 rows × 3 columns</p>\n",
       "</div>"
      ],
      "text/plain": [
       "                                                                                             text  \\\n",
       "3                                                                  the shape by the shape locator   \n",
       "4                                                                                  to get text to   \n",
       "19     holy mention wa blistering from the jump to da hump to the very end and what sell flawless   \n",
       "33                        is if alcohol tonight is worth the consequence of the reaction tomorrow   \n",
       "39                                                                                my look so cute   \n",
       "...                                                                                           ...   \n",
       "48382                                                                              now on locator   \n",
       "48390                                                                        mention wisdom teeth   \n",
       "48391                                     ignite is tonight locator be there or be somewhere else   \n",
       "48397                                             don speak unless you can improve on the silence   \n",
       "48404                                                                           mention which pic   \n",
       "\n",
       "       actual  predicted  \n",
       "3           0          1  \n",
       "4           1          0  \n",
       "19          1          0  \n",
       "33          1          0  \n",
       "39          1          0  \n",
       "...       ...        ...  \n",
       "48382       0          1  \n",
       "48390       1          0  \n",
       "48391       1          0  \n",
       "48397       0          1  \n",
       "48404       1          0  \n",
       "\n",
       "[9046 rows x 3 columns]"
      ]
     },
     "execution_count": 25,
     "metadata": {},
     "output_type": "execute_result"
    }
   ],
   "source": [
    "incorrect"
   ]
  },
  {
   "cell_type": "code",
   "execution_count": null,
   "metadata": {},
   "outputs": [],
   "source": []
  }
 ],
 "metadata": {
  "kernelspec": {
   "display_name": "Python 3",
   "language": "python",
   "name": "python3"
  },
  "language_info": {
   "codemirror_mode": {
    "name": "ipython",
    "version": 3
   },
   "file_extension": ".py",
   "mimetype": "text/x-python",
   "name": "python",
   "nbconvert_exporter": "python",
   "pygments_lexer": "ipython3",
   "version": "3.6.10"
  }
 },
 "nbformat": 4,
 "nbformat_minor": 4
}
